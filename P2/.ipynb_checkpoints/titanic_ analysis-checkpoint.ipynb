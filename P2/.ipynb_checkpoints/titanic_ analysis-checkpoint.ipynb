{
 "cells": [
  {
   "cell_type": "markdown",
   "metadata": {},
   "source": [
    "泰坦尼克号数据\n",
    "提出问题\n",
    "有哪些因素会让船上的人生还率更高？\n",
    "女性的生还率会比较高\n",
    "儿童的生还率会比较高\n",
    "乘员级别高的生还率会比较高\n",
    "数据整理"
   ]
  },
  {
   "cell_type": "code",
   "execution_count": 8,
   "metadata": {
    "collapsed": false,
    "scrolled": true
   },
   "outputs": [
    {
     "data": {
      "text/html": [
       "<div>\n",
       "<table border=\"1\" class=\"dataframe\">\n",
       "  <thead>\n",
       "    <tr style=\"text-align: right;\">\n",
       "      <th></th>\n",
       "      <th>PassengerId</th>\n",
       "      <th>Survived</th>\n",
       "      <th>Pclass</th>\n",
       "      <th>Name</th>\n",
       "      <th>Sex</th>\n",
       "      <th>Age</th>\n",
       "      <th>SibSp</th>\n",
       "      <th>Parch</th>\n",
       "      <th>Ticket</th>\n",
       "      <th>Fare</th>\n",
       "      <th>Cabin</th>\n",
       "      <th>Embarked</th>\n",
       "    </tr>\n",
       "  </thead>\n",
       "  <tbody>\n",
       "    <tr>\n",
       "      <th>0</th>\n",
       "      <td>1</td>\n",
       "      <td>0</td>\n",
       "      <td>3</td>\n",
       "      <td>Braund, Mr. Owen Harris</td>\n",
       "      <td>male</td>\n",
       "      <td>22</td>\n",
       "      <td>1</td>\n",
       "      <td>0</td>\n",
       "      <td>A/5 21171</td>\n",
       "      <td>7.2500</td>\n",
       "      <td>NaN</td>\n",
       "      <td>S</td>\n",
       "    </tr>\n",
       "    <tr>\n",
       "      <th>1</th>\n",
       "      <td>2</td>\n",
       "      <td>1</td>\n",
       "      <td>1</td>\n",
       "      <td>Cumings, Mrs. John Bradley (Florence Briggs Th...</td>\n",
       "      <td>female</td>\n",
       "      <td>38</td>\n",
       "      <td>1</td>\n",
       "      <td>0</td>\n",
       "      <td>PC 17599</td>\n",
       "      <td>71.2833</td>\n",
       "      <td>C85</td>\n",
       "      <td>C</td>\n",
       "    </tr>\n",
       "    <tr>\n",
       "      <th>2</th>\n",
       "      <td>3</td>\n",
       "      <td>1</td>\n",
       "      <td>3</td>\n",
       "      <td>Heikkinen, Miss. Laina</td>\n",
       "      <td>female</td>\n",
       "      <td>26</td>\n",
       "      <td>0</td>\n",
       "      <td>0</td>\n",
       "      <td>STON/O2. 3101282</td>\n",
       "      <td>7.9250</td>\n",
       "      <td>NaN</td>\n",
       "      <td>S</td>\n",
       "    </tr>\n",
       "    <tr>\n",
       "      <th>3</th>\n",
       "      <td>4</td>\n",
       "      <td>1</td>\n",
       "      <td>1</td>\n",
       "      <td>Futrelle, Mrs. Jacques Heath (Lily May Peel)</td>\n",
       "      <td>female</td>\n",
       "      <td>35</td>\n",
       "      <td>1</td>\n",
       "      <td>0</td>\n",
       "      <td>113803</td>\n",
       "      <td>53.1000</td>\n",
       "      <td>C123</td>\n",
       "      <td>S</td>\n",
       "    </tr>\n",
       "    <tr>\n",
       "      <th>4</th>\n",
       "      <td>5</td>\n",
       "      <td>0</td>\n",
       "      <td>3</td>\n",
       "      <td>Allen, Mr. William Henry</td>\n",
       "      <td>male</td>\n",
       "      <td>35</td>\n",
       "      <td>0</td>\n",
       "      <td>0</td>\n",
       "      <td>373450</td>\n",
       "      <td>8.0500</td>\n",
       "      <td>NaN</td>\n",
       "      <td>S</td>\n",
       "    </tr>\n",
       "  </tbody>\n",
       "</table>\n",
       "</div>"
      ],
      "text/plain": [
       "   PassengerId  Survived  Pclass  \\\n",
       "0            1         0       3   \n",
       "1            2         1       1   \n",
       "2            3         1       3   \n",
       "3            4         1       1   \n",
       "4            5         0       3   \n",
       "\n",
       "                                                Name     Sex  Age  SibSp  \\\n",
       "0                            Braund, Mr. Owen Harris    male   22      1   \n",
       "1  Cumings, Mrs. John Bradley (Florence Briggs Th...  female   38      1   \n",
       "2                             Heikkinen, Miss. Laina  female   26      0   \n",
       "3       Futrelle, Mrs. Jacques Heath (Lily May Peel)  female   35      1   \n",
       "4                           Allen, Mr. William Henry    male   35      0   \n",
       "\n",
       "   Parch            Ticket     Fare Cabin Embarked  \n",
       "0      0         A/5 21171   7.2500   NaN        S  \n",
       "1      0          PC 17599  71.2833   C85        C  \n",
       "2      0  STON/O2. 3101282   7.9250   NaN        S  \n",
       "3      0            113803  53.1000  C123        S  \n",
       "4      0            373450   8.0500   NaN        S  "
      ]
     },
     "execution_count": 8,
     "metadata": {},
     "output_type": "execute_result"
    }
   ],
   "source": [
    "import pandas as pd\n",
    "\n",
    "\n",
    "# 读取csv文件\n",
    "filename = 'titanic_data.csv'\n",
    "df = pd.read_csv(filename)\n",
    "\n",
    "# 清理数据\n",
    "def format_df(df):\n",
    "    # 删除年龄为空的行\n",
    "    df = df[pd.notnull(df['Age'])]\n",
    "    # 转换年龄为整型\n",
    "    df.loc[:, 'Age'] = df['Age'].apply(int)\n",
    "    return df \n",
    "\n",
    "new_df = format_df(df)\n",
    "new_df.head()"
   ]
  },
  {
   "cell_type": "markdown",
   "metadata": {},
   "source": [
    "## 分析数据\n",
    "### 按年龄性别组进行分析\n",
    "#### 分组方式\n",
    ">\n",
    "小于等于18岁的青少年为一组，成年男子为一组，成年女子为一组\n",
    "\n",
    "#### 结论\n",
    "> 从柱状图可以看出，成年女性的生还率 > 青少年 > 成年男性\n"
   ]
  },
  {
   "cell_type": "code",
   "execution_count": 9,
   "metadata": {
    "collapsed": false
   },
   "outputs": [
    {
     "name": "stderr",
     "output_type": "stream",
     "text": [
      "/Users/yummy/anaconda/lib/python2.7/site-packages/matplotlib/font_manager.py:273: UserWarning: Matplotlib is building the font cache using fc-list. This may take a moment.\n",
      "  warnings.warn('Matplotlib is building the font cache using fc-list. This may take a moment.')\n"
     ]
    },
    {
     "name": "stdout",
     "output_type": "stream",
     "text": [
      "Populating the interactive namespace from numpy and matplotlib\n"
     ]
    },
    {
     "data": {
      "text/plain": [
       "<matplotlib.axes._subplots.AxesSubplot at 0x113166b50>"
      ]
     },
     "execution_count": 9,
     "metadata": {},
     "output_type": "execute_result"
    },
    {
     "data": {
      "image/png": "[encoded data removed]",
      "text/plain": [
       "<matplotlib.figure.Figure at 0x113166310>"
      ]
     },
     "metadata": {},
     "output_type": "display_data"
    }
   ],
   "source": [
    "# 按年龄性别组\n",
    "def get_age_ratio(age_group):\n",
    "    if age_group == 'child':\n",
    "        series = df[df.Age <= 18]['Survived']  \n",
    "    elif age_group in ('male', 'female'):\n",
    "        series = df[(df.Sex == age_group) \n",
    "                    & (df.Age > 18)]['Survived']\n",
    "   \n",
    "        \n",
    "    saved_ratio = series.sum() / (series.shape[0] * 1.0)\n",
    "    return saved_ratio\n",
    "    \n",
    "    \n",
    "age_group_saved_df = pd.DataFrame(\n",
    "    data={'Saved ratio': [get_age_ratio('child'), get_age_ratio('male'), get_age_ratio('female')]},\n",
    "    index=['Children', 'Men', 'Women']\n",
    ")\n",
    "\n",
    "%pylab inline\n",
    "import matplotlib.pyplot as plt\n",
    "\n",
    "age_group_saved_df.index = [\n",
    "    'children', 'male', 'female'\n",
    "]\n",
    "age_group_saved_df.plot(kind='bar')"
   ]
  },
  {
   "cell_type": "markdown",
   "metadata": {},
   "source": [
    "### 按乘员级别组进行分析\n",
    "#### 分组方式\n",
    ">\n",
    "小于等于18岁的青少年为一组，成年男子为一组，成年女子为一组\n",
    "\n",
    "#### 结论\n",
    "> 从柱状图可以看出，成年女性的生还率 > 青少年 > 成年男性"
   ]
  },
  {
   "cell_type": "code",
   "execution_count": null,
   "metadata": {
    "collapsed": true
   },
   "outputs": [],
   "source": [
    "# 按乘员级别\n",
    "def get_class_ratio(level):\n",
    "    class_series = df[df.Pclass == level]['Survived']\n",
    "    class_saved_ratio = class_series.sum() / (class_series.shape[0] * 1.0)\n",
    "    return  class_saved_ratio\n",
    "\n",
    "\n",
    "class_group_saved_df = pd.DataFrame(\n",
    "    data={'Saved ratio': [get_class_ratio(1), get_class_ratio(2), get_class_ratio(3)]},\n",
    "    index=['class 1', 'class 2', 'class 3']\n",
    ")\n",
    "\n",
    "%pylab inline\n",
    "import matplotlib.pyplot as plt\n",
    "\n",
    "class_group_saved_df.index = [\n",
    "    'class_1', 'class_2', 'class_3'\n",
    "]\n",
    "class_group_saved_df.plot(kind='bar')\n",
    "\n",
    "# 按年龄和乘员级别\n",
    "def get_age_class_ratio(age_group, level):\n",
    "    if age_group == 'child':\n",
    "        series = df[(df.Age <= 18) \n",
    "                    & (df.Pclass == level) ]['Survived']  \n",
    "    elif age_group in ('male', 'female'):\n",
    "        series = df[(df.Sex == age_group) \n",
    "                    & (df.Age > 18) \n",
    "                    & (df.Pclass == level)]['Survived']\n",
    "    \n",
    "\n",
    "    saved_ratio = series.sum() / (series.shape[0] * 1.0)\n",
    "    return saved_ratio\n",
    "\n",
    "\n",
    "index_arrays = [np.array(['Children']*3 + ['Men']*3 + ['Women']*3),\n",
    "               np.array(['class 1', 'class 2', 'class 3']*3)]\n",
    "age_class_group_saved_df = pd.DataFrame(\n",
    "    data={'Saved ratio': [get_age_class_ratio('child', 1), \n",
    "                          get_age_class_ratio('child', 2), \n",
    "                          get_age_class_ratio('child', 3),\n",
    "                          get_age_class_ratio('male', 1), \n",
    "                          get_age_class_ratio('male', 2), \n",
    "                          get_age_class_ratio('male', 3),\n",
    "                          get_age_class_ratio('female', 1), \n",
    "                          get_age_class_ratio('female', 2), \n",
    "                          get_age_class_ratio('female', 3)\n",
    "                         ]},\n",
    "    index=index_arrays\n",
    ")\n",
    "\n",
    "\n",
    "%pylab inline\n",
    "import matplotlib.pyplot as plt\n",
    "\n",
    "age_class_group_saved_df.index = [\n",
    "    'children_class_1', 'children_class_2', 'children_class_3',\n",
    "    'male_class_1', 'male_class_2', 'male_class_3',\n",
    "    'female_class_1', 'female_class_2', 'female_class_3'\n",
    "]\n",
    "#age_class_group_saved_df.plot(kind='bar')"
   ]
  },
  {
   "cell_type": "code",
   "execution_count": null,
   "metadata": {
    "collapsed": true
   },
   "outputs": [],
   "source": []
  }
 ],
 "metadata": {
  "anaconda-cloud": {},
  "kernelspec": {
   "display_name": "Python [default]",
   "language": "python",
   "name": "python2"
  },
  "language_info": {
   "codemirror_mode": {
    "name": "ipython",
    "version": 2
   },
   "file_extension": ".py",
   "mimetype": "text/x-python",
   "name": "python",
   "nbconvert_exporter": "python",
   "pygments_lexer": "ipython2",
   "version": "2.7.12"
  }
 },
 "nbformat": 4,
 "nbformat_minor": 1
}
