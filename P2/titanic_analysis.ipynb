{
 "cells": [
  {
   "cell_type": "markdown",
   "metadata": {},
   "source": [
    "\n",
    "## 1. 项目介绍\n",
    "> 来自Kaggle的数据集包含了泰坦尼克号上 2224 名乘客和船员中 891 名的人口学数据和乘客基本信息。分析有哪些因素会让船上的人生还率更高？\n",
    "\n",
    "> 1. 女性的生还率会比较高\n",
    "2. 儿童的生还率会比较高\n",
    "3. 乘员级别高的生还率会比较高\n",
    "\n",
    "## 2. 数据清理"
   ]
  },
  {
   "cell_type": "code",
   "execution_count": 42,
   "metadata": {
    "collapsed": false,
    "scrolled": true
   },
   "outputs": [
    {
     "data": {
      "text/html": [
       "<div>\n",
       "<table border=\"1\" class=\"dataframe\">\n",
       "  <thead>\n",
       "    <tr style=\"text-align: right;\">\n",
       "      <th></th>\n",
       "      <th>PassengerId</th>\n",
       "      <th>Survived</th>\n",
       "      <th>Pclass</th>\n",
       "      <th>Name</th>\n",
       "      <th>Sex</th>\n",
       "      <th>Age</th>\n",
       "      <th>SibSp</th>\n",
       "      <th>Parch</th>\n",
       "      <th>Ticket</th>\n",
       "      <th>Fare</th>\n",
       "      <th>Cabin</th>\n",
       "      <th>Embarked</th>\n",
       "      <th>Age_Sex</th>\n",
       "    </tr>\n",
       "  </thead>\n",
       "  <tbody>\n",
       "    <tr>\n",
       "      <th>0</th>\n",
       "      <td>1</td>\n",
       "      <td>0</td>\n",
       "      <td>3</td>\n",
       "      <td>Braund, Mr. Owen Harris</td>\n",
       "      <td>male</td>\n",
       "      <td>22.0</td>\n",
       "      <td>1</td>\n",
       "      <td>0</td>\n",
       "      <td>A/5 21171</td>\n",
       "      <td>7.2500</td>\n",
       "      <td>NaN</td>\n",
       "      <td>S</td>\n",
       "      <td>Man</td>\n",
       "    </tr>\n",
       "    <tr>\n",
       "      <th>1</th>\n",
       "      <td>2</td>\n",
       "      <td>1</td>\n",
       "      <td>1</td>\n",
       "      <td>Cumings, Mrs. John Bradley (Florence Briggs Th...</td>\n",
       "      <td>female</td>\n",
       "      <td>38.0</td>\n",
       "      <td>1</td>\n",
       "      <td>0</td>\n",
       "      <td>PC 17599</td>\n",
       "      <td>71.2833</td>\n",
       "      <td>C85</td>\n",
       "      <td>C</td>\n",
       "      <td>Woman</td>\n",
       "    </tr>\n",
       "    <tr>\n",
       "      <th>2</th>\n",
       "      <td>3</td>\n",
       "      <td>1</td>\n",
       "      <td>3</td>\n",
       "      <td>Heikkinen, Miss. Laina</td>\n",
       "      <td>female</td>\n",
       "      <td>26.0</td>\n",
       "      <td>0</td>\n",
       "      <td>0</td>\n",
       "      <td>STON/O2. 3101282</td>\n",
       "      <td>7.9250</td>\n",
       "      <td>NaN</td>\n",
       "      <td>S</td>\n",
       "      <td>Woman</td>\n",
       "    </tr>\n",
       "    <tr>\n",
       "      <th>3</th>\n",
       "      <td>4</td>\n",
       "      <td>1</td>\n",
       "      <td>1</td>\n",
       "      <td>Futrelle, Mrs. Jacques Heath (Lily May Peel)</td>\n",
       "      <td>female</td>\n",
       "      <td>35.0</td>\n",
       "      <td>1</td>\n",
       "      <td>0</td>\n",
       "      <td>113803</td>\n",
       "      <td>53.1000</td>\n",
       "      <td>C123</td>\n",
       "      <td>S</td>\n",
       "      <td>Woman</td>\n",
       "    </tr>\n",
       "    <tr>\n",
       "      <th>4</th>\n",
       "      <td>5</td>\n",
       "      <td>0</td>\n",
       "      <td>3</td>\n",
       "      <td>Allen, Mr. William Henry</td>\n",
       "      <td>male</td>\n",
       "      <td>35.0</td>\n",
       "      <td>0</td>\n",
       "      <td>0</td>\n",
       "      <td>373450</td>\n",
       "      <td>8.0500</td>\n",
       "      <td>NaN</td>\n",
       "      <td>S</td>\n",
       "      <td>Man</td>\n",
       "    </tr>\n",
       "    <tr>\n",
       "      <th>5</th>\n",
       "      <td>6</td>\n",
       "      <td>0</td>\n",
       "      <td>3</td>\n",
       "      <td>Moran, Mr. James</td>\n",
       "      <td>male</td>\n",
       "      <td>0.0</td>\n",
       "      <td>0</td>\n",
       "      <td>0</td>\n",
       "      <td>330877</td>\n",
       "      <td>8.4583</td>\n",
       "      <td>NaN</td>\n",
       "      <td>Q</td>\n",
       "      <td>NaN</td>\n",
       "    </tr>\n",
       "    <tr>\n",
       "      <th>6</th>\n",
       "      <td>7</td>\n",
       "      <td>0</td>\n",
       "      <td>1</td>\n",
       "      <td>McCarthy, Mr. Timothy J</td>\n",
       "      <td>male</td>\n",
       "      <td>54.0</td>\n",
       "      <td>0</td>\n",
       "      <td>0</td>\n",
       "      <td>17463</td>\n",
       "      <td>51.8625</td>\n",
       "      <td>E46</td>\n",
       "      <td>S</td>\n",
       "      <td>Man</td>\n",
       "    </tr>\n",
       "    <tr>\n",
       "      <th>7</th>\n",
       "      <td>8</td>\n",
       "      <td>0</td>\n",
       "      <td>3</td>\n",
       "      <td>Palsson, Master. Gosta Leonard</td>\n",
       "      <td>male</td>\n",
       "      <td>2.0</td>\n",
       "      <td>3</td>\n",
       "      <td>1</td>\n",
       "      <td>349909</td>\n",
       "      <td>21.0750</td>\n",
       "      <td>NaN</td>\n",
       "      <td>S</td>\n",
       "      <td>Child</td>\n",
       "    </tr>\n",
       "    <tr>\n",
       "      <th>8</th>\n",
       "      <td>9</td>\n",
       "      <td>1</td>\n",
       "      <td>3</td>\n",
       "      <td>Johnson, Mrs. Oscar W (Elisabeth Vilhelmina Berg)</td>\n",
       "      <td>female</td>\n",
       "      <td>27.0</td>\n",
       "      <td>0</td>\n",
       "      <td>2</td>\n",
       "      <td>347742</td>\n",
       "      <td>11.1333</td>\n",
       "      <td>NaN</td>\n",
       "      <td>S</td>\n",
       "      <td>Woman</td>\n",
       "    </tr>\n",
       "    <tr>\n",
       "      <th>9</th>\n",
       "      <td>10</td>\n",
       "      <td>1</td>\n",
       "      <td>2</td>\n",
       "      <td>Nasser, Mrs. Nicholas (Adele Achem)</td>\n",
       "      <td>female</td>\n",
       "      <td>14.0</td>\n",
       "      <td>1</td>\n",
       "      <td>0</td>\n",
       "      <td>237736</td>\n",
       "      <td>30.0708</td>\n",
       "      <td>NaN</td>\n",
       "      <td>C</td>\n",
       "      <td>Child</td>\n",
       "    </tr>\n",
       "  </tbody>\n",
       "</table>\n",
       "</div>"
      ],
      "text/plain": [
       "   PassengerId  Survived  Pclass  \\\n",
       "0            1         0       3   \n",
       "1            2         1       1   \n",
       "2            3         1       3   \n",
       "3            4         1       1   \n",
       "4            5         0       3   \n",
       "5            6         0       3   \n",
       "6            7         0       1   \n",
       "7            8         0       3   \n",
       "8            9         1       3   \n",
       "9           10         1       2   \n",
       "\n",
       "                                                Name     Sex   Age  SibSp  \\\n",
       "0                            Braund, Mr. Owen Harris    male  22.0      1   \n",
       "1  Cumings, Mrs. John Bradley (Florence Briggs Th...  female  38.0      1   \n",
       "2                             Heikkinen, Miss. Laina  female  26.0      0   \n",
       "3       Futrelle, Mrs. Jacques Heath (Lily May Peel)  female  35.0      1   \n",
       "4                           Allen, Mr. William Henry    male  35.0      0   \n",
       "5                                   Moran, Mr. James    male   0.0      0   \n",
       "6                            McCarthy, Mr. Timothy J    male  54.0      0   \n",
       "7                     Palsson, Master. Gosta Leonard    male   2.0      3   \n",
       "8  Johnson, Mrs. Oscar W (Elisabeth Vilhelmina Berg)  female  27.0      0   \n",
       "9                Nasser, Mrs. Nicholas (Adele Achem)  female  14.0      1   \n",
       "\n",
       "   Parch            Ticket     Fare Cabin Embarked Age_Sex  \n",
       "0      0         A/5 21171   7.2500   NaN        S     Man  \n",
       "1      0          PC 17599  71.2833   C85        C   Woman  \n",
       "2      0  STON/O2. 3101282   7.9250   NaN        S   Woman  \n",
       "3      0            113803  53.1000  C123        S   Woman  \n",
       "4      0            373450   8.0500   NaN        S     Man  \n",
       "5      0            330877   8.4583   NaN        Q     NaN  \n",
       "6      0             17463  51.8625   E46        S     Man  \n",
       "7      1            349909  21.0750   NaN        S   Child  \n",
       "8      2            347742  11.1333   NaN        S   Woman  \n",
       "9      0            237736  30.0708   NaN        C   Child  "
      ]
     },
     "execution_count": 42,
     "metadata": {},
     "output_type": "execute_result"
    }
   ],
   "source": [
    "import pandas as pd\n",
    "import numpy as np\n",
    "\n",
    "\n",
    "# 读取csv文件\n",
    "filename = 'titanic_data.csv'\n",
    "df = pd.read_csv(filename)\n",
    "\n",
    "# 清理数据\n",
    "def format_df(df):\n",
    "    # 处理缺失的年龄值\n",
    "    df['Age'] = df['Age'].fillna(0)\n",
    "    # 转换年龄为浮点型\n",
    "    df['Age'] = df['Age'].apply(float)\n",
    "    return df\n",
    "\n",
    "\n",
    "df = format_df(df)\n",
    "\n",
    "\n",
    "def append_age_sex_column(c):\n",
    "    if c['Age'] > 18:\n",
    "        if c['Sex'] == 'male':\n",
    "            return 'Man'\n",
    "        elif c['Sex'] == 'female':\n",
    "            return 'Woman'\n",
    "        else:\n",
    "            return np.NaN\n",
    "    elif 0 < c['Age'] <= 18:\n",
    "        return 'Child'\n",
    "    else:\n",
    "        return np.NaN\n",
    "    \n",
    "# 增加age_sex列（小于等于18岁的青少年为\"Child\"，大于18岁男子为\"Man\"，\n",
    "# 大于18岁女子为\"Woman\")\n",
    "df['Age_Sex'] = df.apply(append_age_sex_column, axis=1)\n",
    "\n",
    "def calc_survival_ratio(df, key, *value):\n",
    "    if key == \"age\":       \n",
    "        series = df[(df.Age > value[0])\n",
    "                   & (df.Age <= value[1])]['Survived']\n",
    "    elif key == \"sex\":\n",
    "        series = df[df.Sex == value[0]]['Survived']\n",
    "    elif key == \"level\":\n",
    "        series = df[df.Pclass == value[0]]['Survived']\n",
    "    elif key == \"age_sex\":\n",
    "        series = df[df.Age_Sex == value[0]]['Survived']\n",
    "    elif key == \"age_sex_level\":\n",
    "        series = df[(df.Age_Sex == value[0])\n",
    "                    & (df.Pclass == value[1])]['Survived']\n",
    "        \n",
    "    saved_ratio = series.sum() / (series.shape[0] * 1.0)\n",
    "    return saved_ratio\n",
    "\n",
    "# def calc_survival_ratio(df, age, sex, level, age_sex):  \n",
    "#       # 性别+年龄+乘员级别\n",
    "#       if age_group and level:\n",
    "#           if age_group == 'child':\n",
    "#               series = df[(df.Age <= 18)\n",
    "#                           & (df.Pclass == level) ]['Survived']\n",
    "#           elif age_group in ('male', 'female'):\n",
    "#               series = df[(df.Sex == age_group)\n",
    "#                           & (df.Age > 18)\n",
    "#                           & (df.Pclass == level)]['Survived']           \n",
    "#       # 性别+年龄\n",
    "#       elif age_group:\n",
    "#           if age_group == 'child':\n",
    "#               series = df[df.Age <= 18]['Survived']\n",
    "#           elif age_group in ('male', 'female'):\n",
    "#               series = df[(df.Sex == age_group)\n",
    "#                           & (df.Age > 18)]['Survived']\n",
    "#       # 乘员级别\n",
    "#       else:\n",
    "#           series = df[df.Pclass == level]['Survived']\n",
    "\n",
    "#       saved_ratio = series.sum() / (series.shape[0] * 1.0)\n",
    "#       return saved_ratio\n",
    "\n",
    "df.head(n=10)"
   ]
  },
  {
   "cell_type": "markdown",
   "metadata": {},
   "source": [
    "## 3. 分析数据\n",
    "### 3.1. 按年龄组进行分析\n",
    "#### 分组方式\n",
    ">\n",
    "小于等于18岁的一组，大于18岁为一组\n",
    "\n",
    "#### 结论\n",
    "> \n",
    "'从柱状图可以看出，儿童的生还率>成人的生还率"
   ]
  },
  {
   "cell_type": "code",
   "execution_count": 44,
   "metadata": {
    "collapsed": false
   },
   "outputs": [
    {
     "ename": "SyntaxError",
     "evalue": "EOL while scanning string literal (<ipython-input-44-82d271f522e3>, line 3)",
     "output_type": "error",
     "traceback": [
      "\u001b[0;36m  File \u001b[0;32m\"<ipython-input-44-82d271f522e3>\"\u001b[0;36m, line \u001b[0;32m3\u001b[0m\n\u001b[0;31m    calc_survival_ratio(df, 'age, 18, 100)]},\u001b[0m\n\u001b[0m                                             ^\u001b[0m\n\u001b[0;31mSyntaxError\u001b[0m\u001b[0;31m:\u001b[0m EOL while scanning string literal\n"
     ]
    }
   ],
   "source": [
    "age_group_saved_df = pd.DataFrame(\n",
    "    data={'Saved ratio': [calc_survival_ratio(df, \"age\", 0, 18), \n",
    "                          calc_survival_ratio(df, \"age\", 18, 100)]},\n",
    "    index=['child', 'adult']\n",
    ")\n",
    "\n",
    "\n",
    "%pylab inline\n",
    "import matplotlib.pyplot as plt\n",
    "\n",
    "age_group_saved_df.index = [\n",
    "    'child', 'adult'\n",
    "]\n",
    "age_group_saved_df.plot(kind='bar')"
   ]
  },
  {
   "cell_type": "markdown",
   "metadata": {},
   "source": [
    "### 3.2. 按性别组进行分析\n",
    "#### 分组方式\n",
    ">\n",
    "男性为一组，女性为一组\n",
    "\n",
    "#### 结论\n",
    "> 从柱状图可以看出，女性的生还率>男性的生还率"
   ]
  },
  {
   "cell_type": "code",
   "execution_count": 45,
   "metadata": {
    "collapsed": false
   },
   "outputs": [
    {
     "name": "stdout",
     "output_type": "stream",
     "text": [
      "Populating the interactive namespace from numpy and matplotlib\n"
     ]
    },
    {
     "data": {
      "text/plain": [
       "<matplotlib.axes._subplots.AxesSubplot at 0x112aa5fd0>"
      ]
     },
     "execution_count": 45,
     "metadata": {},
     "output_type": "execute_result"
    },
    {
     "data": {
      "image/png": "[encoded data removed]",
      "text/plain": [
       "<matplotlib.figure.Figure at 0x11296ea90>"
      ]
     },
     "metadata": {},
     "output_type": "display_data"
    }
   ],
   "source": [
    "\n",
    "  \n",
    "age_group_saved_df = pd.DataFrame(\n",
    "    data={'Saved ratio': [calc_survival_ratio(df, \"sex\", \"male\"), \n",
    "                          calc_survival_ratio(df, \"sex\", \"female\")]},\n",
    "    index=['Male', 'Female']\n",
    ")\n",
    "\n",
    "\n",
    "%pylab inline\n",
    "import matplotlib.pyplot as plt\n",
    "\n",
    "age_group_saved_df.index = [\n",
    "    'Male', 'Female'\n",
    "]\n",
    "age_group_saved_df.plot(kind='bar')"
   ]
  },
  {
   "cell_type": "markdown",
   "metadata": {},
   "source": [
    "### 3.3. 按乘员级别组进行分析\n",
    "#### 分组方式\n",
    ">\n",
    "class1为一组，class2为一组，class3为一组\n",
    "\n",
    "#### 结论\n",
    "> 从柱状图可以看出，class1 > class2 > class3"
   ]
  },
  {
   "cell_type": "code",
   "execution_count": 11,
   "metadata": {
    "collapsed": false
   },
   "outputs": [
    {
     "name": "stdout",
     "output_type": "stream",
     "text": [
      "136 216\n",
      "87 184\n",
      "119 491\n",
      "Populating the interactive namespace from numpy and matplotlib\n"
     ]
    },
    {
     "data": {
      "text/plain": [
       "<matplotlib.axes._subplots.AxesSubplot at 0x10f6d3a50>"
      ]
     },
     "execution_count": 11,
     "metadata": {},
     "output_type": "execute_result"
    },
    {
     "data": {
      "image/png": "[encoded data removed]",
      "text/plain": [
       "<matplotlib.figure.Figure at 0x10f7c2450>"
      ]
     },
     "metadata": {},
     "output_type": "display_data"
    }
   ],
   "source": [
    "class_group_saved_df = pd.DataFrame(\n",
    "    data={'Saved ratio': [get_age_class_ratio(df, None, 1), get_age_class_ratio(df, None, 2), get_age_class_ratio(df, None, 3)]},\n",
    "    index=['class 1', 'class 2', 'class 3']\n",
    ")\n",
    "\n",
    "%pylab inline\n",
    "import matplotlib.pyplot as plt\n",
    "\n",
    "class_group_saved_df.index = [\n",
    "    'class_1', 'class_2', 'class_3'\n",
    "]\n",
    "class_group_saved_df.plot(kind='bar')"
   ]
  },
  {
   "cell_type": "markdown",
   "metadata": {},
   "source": [
    "### 3.3. 按乘员和乘员级别组进行分析\n",
    "#### 分组方式\n",
    ">\n",
    "青少年按class分三组，成年男子按class分三组，成年女子按class分三组\n",
    "\n",
    "#### 结论\n",
    "> 从柱状图可以看出，除了成年男子中class3大约class2，其他乘员级别内都按class顺序排列；成年女子略高于青少年，成年男子最低"
   ]
  },
  {
   "cell_type": "code",
   "execution_count": 12,
   "metadata": {
    "collapsed": false
   },
   "outputs": [
    {
     "name": "stdout",
     "output_type": "stream",
     "text": [
      "14 16\n",
      "23 29\n",
      "33 94\n",
      "36 96\n",
      "6 84\n",
      "27 202\n",
      "72 74\n",
      "54 60\n",
      "25 59\n",
      "Populating the interactive namespace from numpy and matplotlib\n"
     ]
    },
    {
     "data": {
      "text/plain": [
       "<matplotlib.axes._subplots.AxesSubplot at 0x10f75e1d0>"
      ]
     },
     "execution_count": 12,
     "metadata": {},
     "output_type": "execute_result"
    },
    {
     "data": {
      "image/png": "[encoded data removed]",
      "text/plain": [
       "<matplotlib.figure.Figure at 0x10f6cd650>"
      ]
     },
     "metadata": {},
     "output_type": "display_data"
    }
   ],
   "source": [
    "index_arrays = [np.array(['Children']*3 + ['Men']*3 + ['Women']*3),\n",
    "               np.array(['class 1', 'class 2', 'class 3']*3)]\n",
    "age_class_group_saved_df = pd.DataFrame(\n",
    "    data={'Saved ratio': [get_age_class_ratio('child', 1), \n",
    "                          get_age_class_ratio('child', 2), \n",
    "                          get_age_class_ratio('child', 3),\n",
    "                          get_age_class_ratio('male', 1), \n",
    "                          get_age_class_ratio('male', 2), \n",
    "                          get_age_class_ratio('male', 3),\n",
    "                          get_age_class_ratio('female', 1), \n",
    "                          get_age_class_ratio('female', 2), \n",
    "                          get_age_class_ratio('female', 3)\n",
    "                         ]},\n",
    "    index=index_arrays\n",
    ")\n",
    "\n",
    "\n",
    "%pylab inline\n",
    "import matplotlib.pyplot as plt\n",
    "\n",
    "age_class_group_saved_df.index = [\n",
    "    'children_class_1', 'children_class_2', 'children_class_3',\n",
    "    'male_class_1', 'male_class_2', 'male_class_3',\n",
    "    'female_class_1', 'female_class_2', 'female_class_3'\n",
    "]\n",
    "age_class_group_saved_df.plot(kind='bar')"
   ]
  },
  {
   "cell_type": "code",
   "execution_count": null,
   "metadata": {
    "collapsed": true
   },
   "outputs": [],
   "source": []
  }
 ],
 "metadata": {
  "anaconda-cloud": {},
  "kernelspec": {
   "display_name": "Python [default]",
   "language": "python",
   "name": "python3"
  },
  "language_info": {
   "codemirror_mode": {
    "name": "ipython",
    "version": 3
   },
   "file_extension": ".py",
   "mimetype": "text/x-python",
   "name": "python",
   "nbconvert_exporter": "python",
   "pygments_lexer": "ipython3",
   "version": "3.5.2"
  }
 },
 "nbformat": 4,
 "nbformat_minor": 1
}
