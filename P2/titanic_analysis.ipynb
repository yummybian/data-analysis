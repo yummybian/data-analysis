{
 "cells": [
  {
   "cell_type": "markdown",
   "metadata": {},
   "source": [
    "\n",
    "## 1. 项目介绍\n",
    "> 来自Kaggle的数据集包含了泰坦尼克号上 2224 名乘客和船员中 891 名的人口学数据和乘客基本信息。分析有哪些因素会让船上的人生还率更高？\n",
    "\n",
    "> 1. 女性的生还率会比较高\n",
    "2. 儿童的生还率会比较高\n",
    "3. 乘员级别高的生还率会比较高\n",
    "\n",
    "## 2. 数据清理"
   ]
  },
  {
   "cell_type": "code",
   "execution_count": 19,
   "metadata": {
    "collapsed": false,
    "scrolled": true
   },
   "outputs": [
    {
     "data": {
      "text/html": [
       "<div>\n",
       "<table border=\"1\" class=\"dataframe\">\n",
       "  <thead>\n",
       "    <tr style=\"text-align: right;\">\n",
       "      <th></th>\n",
       "      <th>PassengerId</th>\n",
       "      <th>Survived</th>\n",
       "      <th>Pclass</th>\n",
       "      <th>Name</th>\n",
       "      <th>Sex</th>\n",
       "      <th>Age</th>\n",
       "      <th>SibSp</th>\n",
       "      <th>Parch</th>\n",
       "      <th>Ticket</th>\n",
       "      <th>Fare</th>\n",
       "      <th>Cabin</th>\n",
       "      <th>Embarked</th>\n",
       "      <th>Age_Sex</th>\n",
       "    </tr>\n",
       "  </thead>\n",
       "  <tbody>\n",
       "    <tr>\n",
       "      <th>0</th>\n",
       "      <td>1</td>\n",
       "      <td>0</td>\n",
       "      <td>3</td>\n",
       "      <td>Braund, Mr. Owen Harris</td>\n",
       "      <td>male</td>\n",
       "      <td>22.0</td>\n",
       "      <td>1</td>\n",
       "      <td>0</td>\n",
       "      <td>A/5 21171</td>\n",
       "      <td>7.2500</td>\n",
       "      <td>NaN</td>\n",
       "      <td>S</td>\n",
       "      <td>man</td>\n",
       "    </tr>\n",
       "    <tr>\n",
       "      <th>1</th>\n",
       "      <td>2</td>\n",
       "      <td>1</td>\n",
       "      <td>1</td>\n",
       "      <td>Cumings, Mrs. John Bradley (Florence Briggs Th...</td>\n",
       "      <td>female</td>\n",
       "      <td>38.0</td>\n",
       "      <td>1</td>\n",
       "      <td>0</td>\n",
       "      <td>PC 17599</td>\n",
       "      <td>71.2833</td>\n",
       "      <td>C85</td>\n",
       "      <td>C</td>\n",
       "      <td>woman</td>\n",
       "    </tr>\n",
       "    <tr>\n",
       "      <th>2</th>\n",
       "      <td>3</td>\n",
       "      <td>1</td>\n",
       "      <td>3</td>\n",
       "      <td>Heikkinen, Miss. Laina</td>\n",
       "      <td>female</td>\n",
       "      <td>26.0</td>\n",
       "      <td>0</td>\n",
       "      <td>0</td>\n",
       "      <td>STON/O2. 3101282</td>\n",
       "      <td>7.9250</td>\n",
       "      <td>NaN</td>\n",
       "      <td>S</td>\n",
       "      <td>woman</td>\n",
       "    </tr>\n",
       "    <tr>\n",
       "      <th>3</th>\n",
       "      <td>4</td>\n",
       "      <td>1</td>\n",
       "      <td>1</td>\n",
       "      <td>Futrelle, Mrs. Jacques Heath (Lily May Peel)</td>\n",
       "      <td>female</td>\n",
       "      <td>35.0</td>\n",
       "      <td>1</td>\n",
       "      <td>0</td>\n",
       "      <td>113803</td>\n",
       "      <td>53.1000</td>\n",
       "      <td>C123</td>\n",
       "      <td>S</td>\n",
       "      <td>woman</td>\n",
       "    </tr>\n",
       "    <tr>\n",
       "      <th>4</th>\n",
       "      <td>5</td>\n",
       "      <td>0</td>\n",
       "      <td>3</td>\n",
       "      <td>Allen, Mr. William Henry</td>\n",
       "      <td>male</td>\n",
       "      <td>35.0</td>\n",
       "      <td>0</td>\n",
       "      <td>0</td>\n",
       "      <td>373450</td>\n",
       "      <td>8.0500</td>\n",
       "      <td>NaN</td>\n",
       "      <td>S</td>\n",
       "      <td>man</td>\n",
       "    </tr>\n",
       "  </tbody>\n",
       "</table>\n",
       "</div>"
      ],
      "text/plain": [
       "   PassengerId  Survived  Pclass  \\\n",
       "0            1         0       3   \n",
       "1            2         1       1   \n",
       "2            3         1       3   \n",
       "3            4         1       1   \n",
       "4            5         0       3   \n",
       "\n",
       "                                                Name     Sex   Age  SibSp  \\\n",
       "0                            Braund, Mr. Owen Harris    male  22.0      1   \n",
       "1  Cumings, Mrs. John Bradley (Florence Briggs Th...  female  38.0      1   \n",
       "2                             Heikkinen, Miss. Laina  female  26.0      0   \n",
       "3       Futrelle, Mrs. Jacques Heath (Lily May Peel)  female  35.0      1   \n",
       "4                           Allen, Mr. William Henry    male  35.0      0   \n",
       "\n",
       "   Parch            Ticket     Fare Cabin Embarked Age_Sex  \n",
       "0      0         A/5 21171   7.2500   NaN        S     man  \n",
       "1      0          PC 17599  71.2833   C85        C   woman  \n",
       "2      0  STON/O2. 3101282   7.9250   NaN        S   woman  \n",
       "3      0            113803  53.1000  C123        S   woman  \n",
       "4      0            373450   8.0500   NaN        S     man  "
      ]
     },
     "execution_count": 19,
     "metadata": {},
     "output_type": "execute_result"
    }
   ],
   "source": [
    "import pandas as pd\n",
    "import numpy as np\n",
    "\n",
    "\n",
    "# 读取csv文件\n",
    "filename = \"titanic_data.csv\"\n",
    "df = pd.read_csv(filename)\n",
    "\n",
    "# 清理数据\n",
    "def format_df(df):\n",
    "    # 处理缺失的年龄值\n",
    "    df[\"Age\"] = df[\"Age\"].fillna(0)\n",
    "    # 转换年龄为浮点型\n",
    "    df[\"Age\"] = df[\"Age\"].apply(float)\n",
    "    return df\n",
    "\n",
    "\n",
    "df = format_df(df)\n",
    "\n",
    "\n",
    "def append_age_sex_column(c):\n",
    "    if c[\"Age\"] > 18:\n",
    "        if c[\"Sex\"] == \"male\":\n",
    "            return \"man\"\n",
    "        elif c[\"Sex\"] == \"female\":\n",
    "            return \"woman\"\n",
    "        else:\n",
    "            return np.NaN\n",
    "    elif 0 < c[\"Age\"] <= 18:\n",
    "        return \"child\"\n",
    "    else:\n",
    "        return np.NaN\n",
    "    \n",
    "\n",
    "# 增加age_sex列（小于等于18岁的青少年为\"Child\"，大于18岁男子为\"Man\"，\n",
    "# 大于18岁女子为\"Woman\")\n",
    "df[\"Age_Sex\"] = df.apply(append_age_sex_column, axis=1)\n",
    "\n",
    "def calc_survival_ratio(df, key, *value):\n",
    "    if key == \"age\":       \n",
    "        series = df[(df.Age > value[0])\n",
    "                   & (df.Age <= value[1])][\"Survived\"]\n",
    "    elif key == \"sex\":\n",
    "        series = df[df.Sex == value[0]][\"Survived\"]\n",
    "    elif key == \"level\":\n",
    "        series = df[df.Pclass == value[0]][\"Survived\"]\n",
    "    elif key == \"age_sex\":\n",
    "        series = df[df.Age_Sex == value[0]][\"Survived\"]\n",
    "    elif key == \"age_sex_level\":\n",
    "        series = df[(df.Age_Sex == value[0])\n",
    "                    & (df.Pclass == value[1])][\"Survived\"]\n",
    "    \n",
    "    saved_ratio = series.sum() / (series.shape[0] * 1.0)\n",
    "    return saved_ratio\n",
    "\n",
    "df.head()"
   ]
  },
  {
   "cell_type": "markdown",
   "metadata": {},
   "source": [
    "## 3. 分析数据\n",
    "### 3.1. 按age组进行分析\n",
    "#### 分组方式\n",
    "> 小于等于18岁的一组，大于18岁为一组\n",
    "\n",
    "#### 结论\n",
    "> \n",
    "\"从柱状图可以看出，儿童的生还率>成人的生还率"
   ]
  },
  {
   "cell_type": "code",
   "execution_count": 20,
   "metadata": {
    "collapsed": false
   },
   "outputs": [
    {
     "name": "stdout",
     "output_type": "stream",
     "text": [
      "Populating the interactive namespace from numpy and matplotlib\n"
     ]
    },
    {
     "data": {
      "text/plain": [
       "<matplotlib.axes._subplots.AxesSubplot at 0x116d55748>"
      ]
     },
     "execution_count": 20,
     "metadata": {},
     "output_type": "execute_result"
    },
    {
     "data": {
      "image/png": "[encoded data removed]",
      "text/plain": [
       "<matplotlib.figure.Figure at 0x116d45f60>"
      ]
     },
     "metadata": {},
     "output_type": "display_data"
    }
   ],
   "source": [
    "age_group_saved_df = pd.DataFrame(\n",
    "    data={\"Survival ratio\": [calc_survival_ratio(df, \"age\", 0, 18), \n",
    "                          calc_survival_ratio(df, \"age\", 18, 100)]},\n",
    "    index=[\"child\", \"adult\"]\n",
    ")\n",
    "\n",
    "\n",
    "%pylab inline\n",
    "import matplotlib.pyplot as plt\n",
    "\n",
    "age_group_saved_df.index = [\n",
    "    \"child\", \"adult\"\n",
    "]\n",
    "age_group_saved_df.plot(kind=\"bar\")"
   ]
  },
  {
   "cell_type": "markdown",
   "metadata": {},
   "source": [
    "### 3.2. 按sex组进行分析\n",
    "#### 分组方式\n",
    "> 男性为一组，女性为一组\n",
    "\n",
    "#### 结论\n",
    "> 从柱状图可以看出，女性的生还率>男性的生还率"
   ]
  },
  {
   "cell_type": "code",
   "execution_count": 21,
   "metadata": {
    "collapsed": false
   },
   "outputs": [
    {
     "name": "stdout",
     "output_type": "stream",
     "text": [
      "Populating the interactive namespace from numpy and matplotlib\n"
     ]
    },
    {
     "data": {
      "text/plain": [
       "<matplotlib.axes._subplots.AxesSubplot at 0x1162d1898>"
      ]
     },
     "execution_count": 21,
     "metadata": {},
     "output_type": "execute_result"
    },
    {
     "data": {
      "image/png": "[encoded data removed]",
      "text/plain": [
       "<matplotlib.figure.Figure at 0x109cfc7f0>"
      ]
     },
     "metadata": {},
     "output_type": "display_data"
    }
   ],
   "source": [
    "\n",
    "  \n",
    "age_group_saved_df = pd.DataFrame(\n",
    "    data={\"Survival ratio\": [calc_survival_ratio(df, \"sex\", \"male\"), \n",
    "                          calc_survival_ratio(df, \"sex\", \"female\")]},\n",
    "    index=[\"Male\", \"Female\"]\n",
    ")\n",
    "\n",
    "\n",
    "%pylab inline\n",
    "import matplotlib.pyplot as plt\n",
    "\n",
    "age_group_saved_df.index = [\n",
    "    \"Male\", \"Female\"\n",
    "]\n",
    "age_group_saved_df.plot(kind=\"bar\")"
   ]
  },
  {
   "cell_type": "markdown",
   "metadata": {},
   "source": [
    "### 3.3. 按level组进行分析\n",
    "#### 分组方式\n",
    "> class1为一组，class2为一组，class3为一组\n",
    "\n",
    "#### 结论\n",
    "> 从柱状图可以看出，class1 > class2 > class3"
   ]
  },
  {
   "cell_type": "code",
   "execution_count": 22,
   "metadata": {
    "collapsed": false
   },
   "outputs": [
    {
     "name": "stdout",
     "output_type": "stream",
     "text": [
      "Populating the interactive namespace from numpy and matplotlib\n"
     ]
    },
    {
     "data": {
      "text/plain": [
       "<matplotlib.axes._subplots.AxesSubplot at 0x116fbcba8>"
      ]
     },
     "execution_count": 22,
     "metadata": {},
     "output_type": "execute_result"
    },
    {
     "data": {
      "image/png": "[encoded data removed]",
      "text/plain": [
       "<matplotlib.figure.Figure at 0x116fc0b00>"
      ]
     },
     "metadata": {},
     "output_type": "display_data"
    }
   ],
   "source": [
    "class_group_saved_df = pd.DataFrame(\n",
    "    data={\"Survival ratio\": [calc_survival_ratio(df, \"level\", 1), \n",
    "                             calc_survival_ratio(df, \"level\", 2),\n",
    "                             calc_survival_ratio(df, \"level\", 3)]},\n",
    "    index=[\"class 1\", \"class 2\", \"class 3\"]\n",
    ")\n",
    "\n",
    "%pylab inline\n",
    "import matplotlib.pyplot as plt\n",
    "\n",
    "class_group_saved_df.index = [\n",
    "    \"class_1\", \"class_2\", \"class_3\"\n",
    "]\n",
    "class_group_saved_df.plot(kind=\"bar\")"
   ]
  },
  {
   "cell_type": "markdown",
   "metadata": {},
   "source": [
    "### 3.4. 按age_sex组进行分析\n",
    "#### 分组方式\n",
    "> 按Child，Woman，Man分成三组\n",
    "\n",
    "#### 结论\n",
    "> 从柱状图可以看出，生还率woman>child>man"
   ]
  },
  {
   "cell_type": "code",
   "execution_count": 23,
   "metadata": {
    "collapsed": false
   },
   "outputs": [
    {
     "name": "stdout",
     "output_type": "stream",
     "text": [
      "Populating the interactive namespace from numpy and matplotlib\n"
     ]
    },
    {
     "data": {
      "text/plain": [
       "<matplotlib.axes._subplots.AxesSubplot at 0x1171126d8>"
      ]
     },
     "execution_count": 23,
     "metadata": {},
     "output_type": "execute_result"
    },
    {
     "data": {
      "image/png": "[encoded data removed]",
      "text/plain": [
       "<matplotlib.figure.Figure at 0x117120f98>"
      ]
     },
     "metadata": {},
     "output_type": "display_data"
    }
   ],
   "source": [
    "class_group_saved_df = pd.DataFrame(\n",
    "    data={\"Survival ratio\": [calc_survival_ratio(df, \"age_sex\", \"child\"), \n",
    "                             calc_survival_ratio(df, \"age_sex\", \"woman\"),\n",
    "                             calc_survival_ratio(df, \"age_sex\", \"man\")]},\n",
    "    index=[\"Child\", \"Woman\", \"Man\"]\n",
    ")\n",
    "\n",
    "%pylab inline\n",
    "import matplotlib.pyplot as plt\n",
    "\n",
    "class_group_saved_df.index = [\n",
    "    \"Child\", \"Woman\", \"Man\"\n",
    "]\n",
    "class_group_saved_df.plot(kind=\"bar\")"
   ]
  },
  {
   "cell_type": "markdown",
   "metadata": {},
   "source": [
    "### 3.5. 按age+sex+level组进行分析\n",
    "#### 分组方式\n",
    "> Child按class分三组，Woman按class分三组，Man按class分三组，\n",
    "\n",
    "#### 结论\n",
    "> \n",
    "从图可以看出，除了man中class3大约class2，其他乘员级别内都按class顺序排列；woman略高于child，man最低"
   ]
  },
  {
   "cell_type": "code",
   "execution_count": 24,
   "metadata": {
    "collapsed": false
   },
   "outputs": [
    {
     "name": "stdout",
     "output_type": "stream",
     "text": [
      "Populating the interactive namespace from numpy and matplotlib\n"
     ]
    },
    {
     "data": {
      "image/png": "[encoded data removed]",
      "text/plain": [
       "<matplotlib.figure.Figure at 0x1171c19e8>"
      ]
     },
     "metadata": {},
     "output_type": "display_data"
    },
    {
     "data": {
      "text/plain": [
       "<matplotlib.figure.Figure at 0x1171c14e0>"
      ]
     },
     "metadata": {},
     "output_type": "display_data"
    },
    {
     "data": {
      "image/png": "[encoded data removed]",
      "text/plain": [
       "<matplotlib.figure.Figure at 0x1176f4358>"
      ]
     },
     "metadata": {},
     "output_type": "display_data"
    }
   ],
   "source": [
    "data = np.array([\n",
    "            [calc_survival_ratio(df, \"age_sex_level\", \"child\", 1),\n",
    "             calc_survival_ratio(df, \"age_sex_level\", \"child\", 2),\n",
    "             calc_survival_ratio(df, \"age_sex_level\", \"child\", 3)],\n",
    "            [calc_survival_ratio(df, \"age_sex_level\", \"woman\", 1),\n",
    "             calc_survival_ratio(df, \"age_sex_level\", \"woman\", 2),\n",
    "             calc_survival_ratio(df, \"age_sex_level\", \"woman\", 3)],\n",
    "            [calc_survival_ratio(df, \"age_sex_level\", \"man\", 1),\n",
    "             calc_survival_ratio(df, \"age_sex_level\", \"man\", 2),\n",
    "             calc_survival_ratio(df, \"age_sex_level\", \"man\", 3)]\n",
    "            ])\n",
    "\n",
    "age_class_group_saved_df = pd.DataFrame(\n",
    "    data=data,\n",
    "    index=[\"child\", \"woman\", \"man\"],\n",
    "    columns=[\"class1\", \"class2\", \"class3\"]\n",
    ")\n",
    "\n",
    "%pylab inline\n",
    "import matplotlib.pyplot as plt\n",
    "\n",
    "# 绘制直方图\n",
    "age_class_group_saved_df.index = [\"child\", \"woman\", \"man\"]\n",
    "age_class_group_saved_df.plot(kind=\"bar\")\n",
    "\n",
    "# 绘制折线图\n",
    "age_class_group_saved_df.cumsum()\n",
    "plt.figure(); \n",
    "age_class_group_saved_df.plot();\n"
   ]
  },
  {
   "cell_type": "code",
   "execution_count": null,
   "metadata": {
    "collapsed": true
   },
   "outputs": [],
   "source": []
  }
 ],
 "metadata": {
  "anaconda-cloud": {},
  "kernelspec": {
   "display_name": "Python [default]",
   "language": "python",
   "name": "python3"
  },
  "language_info": {
   "codemirror_mode": {
    "name": "ipython",
    "version": 3
   },
   "file_extension": ".py",
   "mimetype": "text/x-python",
   "name": "python",
   "nbconvert_exporter": "python",
   "pygments_lexer": "ipython3",
   "version": "3.5.2"
  }
 },
 "nbformat": 4,
 "nbformat_minor": 1
}
